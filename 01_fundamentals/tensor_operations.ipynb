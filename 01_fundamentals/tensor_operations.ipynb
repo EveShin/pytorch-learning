{
 "cells": [
  {
   "cell_type": "markdown",
   "id": "11e3e6a7",
   "metadata": {},
   "source": [
    "# PyTorch 기초 텐서 연산 (Tensor Operations)"
   ]
  },
  {
   "cell_type": "markdown",
   "id": "ffa5ff52",
   "metadata": {},
   "source": [
    "**학습 목표**\n",
    "\n",
    "텐서의 개념과 NumPy 배열과의 차이점 이해  \n",
    "PyTorch 텐서 생성 및 조작 방법 습득  \n",
    "머신러닝에서 텐서 연산의 실제 활용 사례 학습  \n",
    "GPU 가속을 위한 텐서 처리 방법 이해 "
   ]
  },
  {
   "cell_type": "markdown",
   "id": "dd7ff61c",
   "metadata": {},
   "source": [
    " ## 1.1 텐서란 무엇인가?  \n",
    "\n",
    "텐서(Tensor)는 다차원 배열을 일반화한 개념으로, 딥러닝의 모든 데이터 표현의 기본 단위입니다.  \n",
    "\n",
    "**차원별 텐서의 의미**  \n",
    "\n",
    "0차원 (스칼라): 단일 숫자 값 (예: 손실값, 정확도)  \n",
    "1차원 (벡터): 특성 벡터, 가중치 벡터  \n",
    "2차원 (행렬): 완전연결층의 가중치, 배치 데이터  \n",
    "3차원: 시계열 데이터 (배치, 시퀀스, 특성)  \n",
    "4차원: 이미지 데이터 (배치, 채널, 높이, 너비)"
   ]
  },
  {
   "cell_type": "code",
   "execution_count": 2,
   "id": "b5c5accf",
   "metadata": {},
   "outputs": [
    {
     "name": "stdout",
     "output_type": "stream",
     "text": [
      "PyTorch 버전: 2.5.1\n",
      "CUDA 사용 가능: False\n",
      "사용 장치: cpu\n",
      "모든 준비 완료! 텐서 연산 학습을 시작합니다!\n"
     ]
    }
   ],
   "source": [
    "# 기본 라이브러리 import\n",
    "import torch\n",
    "import numpy as np\n",
    "import matplotlib.pyplot as plt\n",
    "import warnings\n",
    "\n",
    "# 경고 메시지 숨기기\n",
    "warnings.filterwarnings('ignore')\n",
    "\n",
    "# 한글 폰트 설정 (Windows 환경)\n",
    "try:\n",
    "    plt.rcParams['font.family'] = 'Malgun Gothic'\n",
    "except:\n",
    "    plt.rcParams['font.family'] = 'DejaVu Sans'\n",
    "    print(\"한글 폰트를 찾을 수 없어 기본 폰트를 사용합니다.\")\n",
    "\n",
    "plt.rcParams['axes.unicode_minus'] = False\n",
    "plt.rcParams['figure.figsize'] = (8, 6)\n",
    "\n",
    "# PyTorch 버전 및 환경 확인\n",
    "print(f\"PyTorch 버전: {torch.__version__}\")\n",
    "print(f\"CUDA 사용 가능: {torch.cuda.is_available()}\")\n",
    "\n",
    "# 기본 장치 설정 (CPU 사용)\n",
    "device = torch.device('cpu')\n",
    "print(f\"사용 장치: {device}\")\n",
    "print(\"모든 준비 완료! 텐서 연산 학습을 시작합니다!\")"
   ]
  },
  {
   "cell_type": "markdown",
   "id": "1fcbf51c",
   "metadata": {},
   "source": [
    "##  1.2 텐서 생성 방법들\n",
    "\n",
    "1. 직접 데이터로부터 생성  \n",
    "2. NumPy 배열로부터 생성  \n",
    "3. 0으로 채워진 텐서 (모델 가중치 초기화에 주로 사용)  \n",
    "4. 1로 채워진 텐서 (bias 초기화에 주로 사용)  \n",
    "5. 단위 행렬 (항등 변환에 사용)  \n",
    "6. 랜덤 텐서 생성 - 딥러닝에서 가장 중요!"
   ]
  },
  {
   "cell_type": "code",
   "execution_count": 4,
   "id": "da43dfec",
   "metadata": {},
   "outputs": [
    {
     "name": "stdout",
     "output_type": "stream",
     "text": [
      "데이터로부터 생성:\n",
      "tensor([[1, 2],\n",
      "        [3, 4]])\n",
      "Shape: torch.Size([2, 2])\n",
      "데이터 타입: torch.int64\n",
      "\n"
     ]
    }
   ],
   "source": [
    "# 1. 직접 데이터로부터 생성\n",
    "data = [[1, 2], [3, 4]]\n",
    "tensor_from_data = torch.tensor(data)\n",
    "print(\"데이터로부터 생성:\")\n",
    "print(tensor_from_data)\n",
    "print(f\"Shape: {tensor_from_data.shape}\")\n",
    "print(f\"데이터 타입: {tensor_from_data.dtype}\")\n",
    "print()"
   ]
  },
  {
   "cell_type": "code",
   "execution_count": 5,
   "id": "a79214d8",
   "metadata": {},
   "outputs": [
    {
     "name": "stdout",
     "output_type": "stream",
     "text": [
      "NumPy 배열:\n",
      "[[1 2 3]\n",
      " [4 5 6]]\n",
      "\n",
      "NumPy에서 변환된 텐서:\n",
      "tensor([[1, 2, 3],\n",
      "        [4, 5, 6]], dtype=torch.int32)\n",
      "\n",
      "텐서에서 NumPy로 재변환:\n",
      "[[1 2 3]\n",
      " [4 5 6]]\n",
      "원본과 동일한가? True\n"
     ]
    }
   ],
   "source": [
    "# 2. NumPy 배열로부터 생성\n",
    "np_array = np.array([[1, 2, 3], [4, 5, 6]])\n",
    "tensor_from_numpy = torch.from_numpy(np_array)\n",
    "\n",
    "print(\"NumPy 배열:\")\n",
    "print(np_array)\n",
    "print(\"\\nNumPy에서 변환된 텐서:\")\n",
    "print(tensor_from_numpy)\n",
    "\n",
    "# 텐서를 다시 NumPy로 변환\n",
    "back_to_numpy = tensor_from_numpy.numpy()\n",
    "print(\"\\n텐서에서 NumPy로 재변환:\")\n",
    "print(back_to_numpy)\n",
    "print(f\"원본과 동일한가? {np.array_equal(np_array, back_to_numpy)}\")"
   ]
  },
  {
   "cell_type": "code",
   "execution_count": 6,
   "id": "36b2a6be",
   "metadata": {},
   "outputs": [
    {
     "name": "stdout",
     "output_type": "stream",
     "text": [
      "0으로 채워진 텐서:\n",
      "tensor([[0., 0., 0., 0.],\n",
      "        [0., 0., 0., 0.],\n",
      "        [0., 0., 0., 0.]])\n",
      "\n",
      "1로 채워진 텐서:\n",
      "tensor([[1., 1., 1.],\n",
      "        [1., 1., 1.]])\n",
      "\n",
      "단위 행렬:\n",
      "tensor([[1., 0., 0.],\n",
      "        [0., 1., 0.],\n",
      "        [0., 0., 1.]])\n"
     ]
    }
   ],
   "source": [
    "# 3. 0으로 채워진 텐서 (모델 가중치 초기화에 주로 사용)\n",
    "zeros_tensor = torch.zeros(3, 4)\n",
    "print(\"0으로 채워진 텐서:\")\n",
    "print(zeros_tensor)\n",
    "\n",
    "# 4. 1로 채워진 텐서 (bias 초기화에 주로 사용)\n",
    "ones_tensor = torch.ones(2, 3)\n",
    "print(\"\\n1로 채워진 텐서:\")\n",
    "print(ones_tensor)\n",
    "\n",
    "# 5. 단위 행렬 (항등 변환에 사용)\n",
    "identity_tensor = torch.eye(3)\n",
    "print(\"\\n단위 행렬:\")\n",
    "print(identity_tensor)"
   ]
  },
  {
   "cell_type": "code",
   "execution_count": 7,
   "id": "94a19a27",
   "metadata": {},
   "outputs": [
    {
     "name": "stdout",
     "output_type": "stream",
     "text": [
      "균등 분포 랜덤 텐서 (0~1):\n",
      "tensor([[0.8823, 0.9150, 0.3829],\n",
      "        [0.9593, 0.3904, 0.6009]])\n",
      "\n",
      "표준 정규 분포 랜덤 텐서:\n",
      "tensor([[ 1.1561,  0.3965, -2.4661],\n",
      "        [ 0.3623,  0.3765, -0.1808]])\n",
      "\n",
      "정수 랜덤 텐서 (0~9):\n",
      "tensor([[7, 6, 9],\n",
      "        [6, 3, 1]])\n"
     ]
    }
   ],
   "source": [
    "# 6. 랜덤 텐서 생성 - 딥러닝에서 가장 중요!\n",
    "torch.manual_seed(42)  # 재현 가능한 결과를 위한 시드 설정\n",
    "\n",
    "# 0과 1 사이의 균등 분포\n",
    "uniform_tensor = torch.rand(2, 3)\n",
    "print(\"균등 분포 랜덤 텐서 (0~1):\")\n",
    "print(uniform_tensor)\n",
    "\n",
    "# 표준 정규 분포 (평균 0, 표준편차 1)\n",
    "normal_tensor = torch.randn(2, 3)\n",
    "print(\"\\n표준 정규 분포 랜덤 텐서:\")\n",
    "print(normal_tensor)\n",
    "\n",
    "# 정수 범위 랜덤 텐서\n",
    "randint_tensor = torch.randint(0, 10, (2, 3))\n",
    "print(\"\\n정수 랜덤 텐서 (0~9):\")\n",
    "print(randint_tensor)"
   ]
  },
  {
   "cell_type": "code",
   "execution_count": null,
   "id": "efed9dd2",
   "metadata": {},
   "outputs": [],
   "source": []
  }
 ],
 "metadata": {
  "kernelspec": {
   "display_name": "base",
   "language": "python",
   "name": "python3"
  },
  "language_info": {
   "codemirror_mode": {
    "name": "ipython",
    "version": 3
   },
   "file_extension": ".py",
   "mimetype": "text/x-python",
   "name": "python",
   "nbconvert_exporter": "python",
   "pygments_lexer": "ipython3",
   "version": "3.12.3"
  }
 },
 "nbformat": 4,
 "nbformat_minor": 5
}
